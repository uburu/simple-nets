{
 "cells": [
  {
   "cell_type": "markdown",
   "metadata": {},
   "source": [
    "\n",
    "# sorting net\n",
    "\n",
    "## NN that sort symbols in string\n",
    "\n",
    "## example\n",
    "\n",
    "Input: \n",
    "\n",
    "```c \n",
    "\"bdcfa\"\n",
    "```\n",
    "\n",
    "Output:\n",
    "\n",
    "```c\n",
    "\"abcdf\"\n",
    "```\n",
    "\n",
    "inspired by: \n",
    "https://github.com/keras-team/keras/blob/master/examples/addition_rnn.py\n"
   ]
  },
  {
   "cell_type": "code",
   "execution_count": 2,
   "metadata": {
    "collapsed": true
   },
   "outputs": [],
   "source": [
    "from __future__ import print_function\n",
    "from keras.models import Sequential\n",
    "from keras import layers\n",
    "import numpy as np\n",
    "from six.moves import range\n",
    "\n",
    "\n",
    "class CharacterTable(object):\n",
    "    \"\"\"Given a set of characters:\n",
    "    + Encode them to a one hot integer representation\n",
    "    + Decode the one hot integer representation to their character output\n",
    "    + Decode a vector of probabilities to their character output\n",
    "    \"\"\"\n",
    "    def __init__(self, chars):\n",
    "        \"\"\"Initialize character table.\n",
    "\n",
    "        # Arguments\n",
    "            chars: Characters that can appear in the input.\n",
    "        \"\"\"\n",
    "        self.chars = sorted(set(chars))\n",
    "        self.char_indices = dict((c, i) for i, c in enumerate(self.chars))\n",
    "        self.indices_char = dict((i, c) for i, c in enumerate(self.chars))\n",
    "\n",
    "    def encode(self, C, num_rows):\n",
    "        \"\"\"One hot encode given string C.\n",
    "\n",
    "        # Arguments\n",
    "            num_rows: Number of rows in the returned one hot encoding. This is\n",
    "                used to keep the # of rows for each data the same.\n",
    "        \"\"\"\n",
    "        x = np.zeros((num_rows, len(self.chars)))\n",
    "        for i, c in enumerate(C):\n",
    "            x[i, self.char_indices[c]] = 1\n",
    "        return x\n",
    "\n",
    "    def decode(self, x, calc_argmax=True):\n",
    "        if calc_argmax:\n",
    "            x = x.argmax(axis=-1)\n",
    "        return ''.join(self.indices_char[x] for x in x)\n",
    "\n",
    "\n",
    "class colors:\n",
    "    ok = '\\033[92m'\n",
    "    fail = '\\033[91m'\n",
    "    close = '\\033[0m'"
   ]
  },
  {
   "cell_type": "code",
   "execution_count": 44,
   "metadata": {
    "collapsed": true
   },
   "outputs": [],
   "source": [
    "# Parameters for the model and dataset.\n",
    "TRAINING_SIZE = 50000\n",
    "# Length of input and output string\n",
    "DIGITS = 5\n",
    "\n",
    "\n",
    "# All the numbers, plus sign and space for padding.\n",
    "chars = 'qwertyuiopasdfghjklzxcvbnm '\n",
    "ctable = CharacterTable(chars)\n",
    "\n",
    "char_list = 'qwertyuiopasdfghjklzxcvbnm'"
   ]
  },
  {
   "cell_type": "code",
   "execution_count": 45,
   "metadata": {},
   "outputs": [
    {
     "name": "stdout",
     "output_type": "stream",
     "text": [
      "Generating data...\n",
      "Total addition questions: 50000\n"
     ]
    }
   ],
   "source": [
    "questions = []\n",
    "expected = []\n",
    "seen = set()\n",
    "print('Generating data...')\n",
    "while len(questions) < TRAINING_SIZE:\n",
    "    f = lambda: str(''.join(np.random.choice(list(char_list))\n",
    "                    for i in range(np.random.randint(1, DIGITS + 1))))\n",
    "    a = f()\n",
    "    # Skip any addition questions we've already seen\n",
    "    key = tuple(a)\n",
    "    if key in seen:\n",
    "        continue\n",
    "    seen.add(key)\n",
    "    # Pad the data with spaces such that it is always DIGITS.\n",
    "    q = '{}'.format(a)\n",
    "    query = q + ' ' * (DIGITS - len(q))\n",
    "    ans = ''\n",
    "    for c in sorted(a):\n",
    "        ans += c\n",
    "    # Answers can be of maximum size DIGITS \n",
    "    ans += ' ' * (DIGITS - len(ans))\n",
    "    questions.append(query)\n",
    "    expected.append(ans)\n",
    "print('Total addition questions:', len(questions))"
   ]
  },
  {
   "cell_type": "code",
   "execution_count": 46,
   "metadata": {},
   "outputs": [
    {
     "data": {
      "text/plain": [
       "['hh   ',\n",
       " 'qnuw ',\n",
       " 'okpkq',\n",
       " 'ngz  ',\n",
       " 'rkqrl',\n",
       " 'blnyy',\n",
       " 'sor  ',\n",
       " 'n    ',\n",
       " 'rnk  ',\n",
       " 'v    ']"
      ]
     },
     "execution_count": 46,
     "metadata": {},
     "output_type": "execute_result"
    }
   ],
   "source": [
    "questions[:10]"
   ]
  },
  {
   "cell_type": "code",
   "execution_count": 47,
   "metadata": {},
   "outputs": [
    {
     "data": {
      "text/plain": [
       "['hh   ',\n",
       " 'nquw ',\n",
       " 'kkopq',\n",
       " 'gnz  ',\n",
       " 'klqrr',\n",
       " 'blnyy',\n",
       " 'ors  ',\n",
       " 'n    ',\n",
       " 'knr  ',\n",
       " 'v    ']"
      ]
     },
     "execution_count": 47,
     "metadata": {},
     "output_type": "execute_result"
    }
   ],
   "source": [
    "expected[:10]"
   ]
  },
  {
   "cell_type": "code",
   "execution_count": 48,
   "metadata": {},
   "outputs": [
    {
     "name": "stdout",
     "output_type": "stream",
     "text": [
      "Vectorization...\n"
     ]
    }
   ],
   "source": [
    "print('Vectorization...')\n",
    "x = np.zeros((len(questions), DIGITS, len(chars)), dtype=np.bool)\n",
    "y = np.zeros((len(questions), DIGITS, len(chars)), dtype=np.bool)\n",
    "for i, sentence in enumerate(questions):\n",
    "    x[i] = ctable.encode(sentence, DIGITS)\n",
    "for i, sentence in enumerate(expected):\n",
    "    y[i] = ctable.encode(sentence, DIGITS)"
   ]
  },
  {
   "cell_type": "code",
   "execution_count": 49,
   "metadata": {},
   "outputs": [
    {
     "name": "stdout",
     "output_type": "stream",
     "text": [
      "Training Data:\n",
      "(45000, 5, 27)\n",
      "(45000, 5, 27)\n",
      "Validation Data:\n",
      "(5000, 5, 27)\n",
      "(5000, 5, 27)\n"
     ]
    }
   ],
   "source": [
    "# Shuffle (x, y) in unison as the later parts of x will almost all be larger\n",
    "# digits.\n",
    "indices = np.arange(len(y))\n",
    "np.random.shuffle(indices)\n",
    "x = x[indices]\n",
    "y = y[indices]\n",
    "\n",
    "# Explicitly set apart 10% for validation data that we never train over.\n",
    "split_at = len(x) - len(x) // 10\n",
    "(x_train, x_val) = x[:split_at], x[split_at:]\n",
    "(y_train, y_val) = y[:split_at], y[split_at:]\n",
    "\n",
    "print('Training Data:')\n",
    "print(x_train.shape)\n",
    "print(y_train.shape)\n",
    "\n",
    "print('Validation Data:')\n",
    "print(x_val.shape)\n",
    "print(y_val.shape)"
   ]
  },
  {
   "cell_type": "code",
   "execution_count": 50,
   "metadata": {},
   "outputs": [
    {
     "name": "stdout",
     "output_type": "stream",
     "text": [
      "Build model...\n",
      "_________________________________________________________________\n",
      "Layer (type)                 Output Shape              Param #   \n",
      "=================================================================\n",
      "lstm_5 (LSTM)                (None, 128)               79872     \n",
      "_________________________________________________________________\n",
      "repeat_vector_3 (RepeatVecto (None, 5, 128)            0         \n",
      "_________________________________________________________________\n",
      "lstm_6 (LSTM)                (None, 5, 128)            131584    \n",
      "_________________________________________________________________\n",
      "time_distributed_3 (TimeDist (None, 5, 27)             3483      \n",
      "_________________________________________________________________\n",
      "activation_3 (Activation)    (None, 5, 27)             0         \n",
      "=================================================================\n",
      "Total params: 214,939\n",
      "Trainable params: 214,939\n",
      "Non-trainable params: 0\n",
      "_________________________________________________________________\n"
     ]
    }
   ],
   "source": [
    "# Try replacing GRU, or SimpleRNN.\n",
    "RNN = layers.LSTM\n",
    "HIDDEN_SIZE = 128\n",
    "BATCH_SIZE = 128\n",
    "LAYERS = 1\n",
    "\n",
    "print('Build model...')\n",
    "model = Sequential()\n",
    "# \"Encode\" the input sequence using an RNN, producing an output of HIDDEN_SIZE.\n",
    "# Note: In a situation where your input sequences have a variable length,\n",
    "# use input_shape=(None, num_feature).\n",
    "model.add(RNN(HIDDEN_SIZE, input_shape=(DIGITS, len(chars))))\n",
    "# As the decoder RNN's input, repeatedly provide with the last hidden state of\n",
    "# RNN for each time step. Repeat 'DIGITS' times as that's the maximum\n",
    "# length of output.\n",
    "model.add(layers.RepeatVector(DIGITS))\n",
    "# The decoder RNN could be multiple layers stacked or a single layer.\n",
    "for _ in range(LAYERS):\n",
    "    # By setting return_sequences to True, return not only the last output but\n",
    "    # all the outputs so far in the form of (num_samples, timesteps,\n",
    "    # output_dim). This is necessary as TimeDistributed in the below expects\n",
    "    # the first dimension to be the timesteps.\n",
    "    model.add(RNN(HIDDEN_SIZE, return_sequences=True))\n",
    "\n",
    "# Apply a dense layer to the every temporal slice of an input. For each of step\n",
    "# of the output sequence, decide which character should be chosen.\n",
    "model.add(layers.TimeDistributed(layers.Dense(len(chars))))\n",
    "model.add(layers.Activation('softmax'))\n",
    "model.compile(loss='categorical_crossentropy',\n",
    "              optimizer='adam',\n",
    "              metrics=['accuracy'])\n",
    "model.summary()"
   ]
  },
  {
   "cell_type": "code",
   "execution_count": 51,
   "metadata": {
    "collapsed": true
   },
   "outputs": [],
   "source": [
    "# even 10 iterations and 1 epoch is enough for 50k dataset of 5 len inputs\n",
    "ITERATIONS = 10 \n",
    "EPOCHS = 1"
   ]
  },
  {
   "cell_type": "code",
   "execution_count": 52,
   "metadata": {
    "scrolled": true
   },
   "outputs": [
    {
     "name": "stdout",
     "output_type": "stream",
     "text": [
      "\n",
      "--------------------------------------------------\n",
      "Iteration 1\n",
      "Train on 45000 samples, validate on 5000 samples\n",
      "Epoch 1/1\n",
      "45000/45000 [==============================] - 9s - loss: 1.3539 - acc: 0.6194 - val_loss: 0.3328 - val_acc: 0.9339\n",
      "Q alcgb T abcgl \u001b[91m☒\u001b[0m acdgl\n",
      "Q ptv   T ptv   \u001b[92m☑\u001b[0m ptv  \n",
      "Q vcz   T cvz   \u001b[92m☑\u001b[0m cvz  \n",
      "Q bhl   T bhl   \u001b[92m☑\u001b[0m bhl  \n",
      "Q wx    T wx    \u001b[92m☑\u001b[0m wx   \n",
      "Q istow T iostw \u001b[91m☒\u001b[0m iottw\n",
      "Q jzu   T juz   \u001b[92m☑\u001b[0m juz  \n",
      "Q rqko  T koqr  \u001b[92m☑\u001b[0m koqr \n",
      "Q kjzlb T bjklz \u001b[91m☒\u001b[0m bjllz\n",
      "Q lld   T dll   \u001b[92m☑\u001b[0m dll  \n",
      "\n",
      "--------------------------------------------------\n",
      "Iteration 2\n",
      "Train on 45000 samples, validate on 5000 samples\n",
      "Epoch 1/1\n",
      "45000/45000 [==============================] - 8s - loss: 0.1670 - acc: 0.9772 - val_loss: 0.0839 - val_acc: 0.9940\n",
      "Q yuj   T juy   \u001b[92m☑\u001b[0m juy  \n",
      "Q vtvn  T ntvv  \u001b[92m☑\u001b[0m ntvv \n",
      "Q eyxy  T exyy  \u001b[92m☑\u001b[0m exyy \n",
      "Q vognu T gnouv \u001b[92m☑\u001b[0m gnouv\n",
      "Q qlecd T cdelq \u001b[91m☒\u001b[0m ceelq\n",
      "Q iexwv T eivwx \u001b[92m☑\u001b[0m eivwx\n",
      "Q kdozd T ddkoz \u001b[92m☑\u001b[0m ddkoz\n",
      "Q ltfz  T fltz  \u001b[92m☑\u001b[0m fltz \n",
      "Q dvxj  T djvx  \u001b[92m☑\u001b[0m djvx \n",
      "Q blqn  T blnq  \u001b[92m☑\u001b[0m blnq \n",
      "\n",
      "--------------------------------------------------\n",
      "Iteration 3\n",
      "Train on 45000 samples, validate on 5000 samples\n",
      "Epoch 1/1\n",
      "45000/45000 [==============================] - 8s - loss: 0.0553 - acc: 0.9973 - val_loss: 0.0358 - val_acc: 0.9992\n",
      "Q qbbpy T bbpqy \u001b[92m☑\u001b[0m bbpqy\n",
      "Q whcfq T cfhqw \u001b[92m☑\u001b[0m cfhqw\n",
      "Q ytkj  T jkty  \u001b[92m☑\u001b[0m jkty \n",
      "Q cd    T cd    \u001b[92m☑\u001b[0m cd   \n",
      "Q mjac  T acjm  \u001b[92m☑\u001b[0m acjm \n",
      "Q xasn  T ansx  \u001b[92m☑\u001b[0m ansx \n",
      "Q loxtx T lotxx \u001b[92m☑\u001b[0m lotxx\n",
      "Q xyf   T fxy   \u001b[92m☑\u001b[0m fxy  \n",
      "Q eam   T aem   \u001b[92m☑\u001b[0m aem  \n",
      "Q ynd   T dny   \u001b[92m☑\u001b[0m dny  \n",
      "\n",
      "--------------------------------------------------\n",
      "Iteration 4\n",
      "Train on 45000 samples, validate on 5000 samples\n",
      "Epoch 1/1\n",
      "45000/45000 [==============================] - 8s - loss: 0.0263 - acc: 0.9994 - val_loss: 0.0193 - val_acc: 1.0000\n",
      "Q qml   T lmq   \u001b[92m☑\u001b[0m lmq  \n",
      "Q wfc   T cfw   \u001b[92m☑\u001b[0m cfw  \n",
      "Q ojtux T jotux \u001b[92m☑\u001b[0m jotux\n",
      "Q ulz   T luz   \u001b[92m☑\u001b[0m luz  \n",
      "Q xqra  T aqrx  \u001b[92m☑\u001b[0m aqrx \n",
      "Q psu   T psu   \u001b[92m☑\u001b[0m psu  \n",
      "Q cmzs  T cmsz  \u001b[92m☑\u001b[0m cmsz \n",
      "Q vsje  T ejsv  \u001b[92m☑\u001b[0m ejsv \n",
      "Q sooxr T oorsx \u001b[92m☑\u001b[0m oorsx\n",
      "Q fosd  T dfos  \u001b[92m☑\u001b[0m dfos \n",
      "\n",
      "--------------------------------------------------\n",
      "Iteration 5\n",
      "Train on 45000 samples, validate on 5000 samples\n",
      "Epoch 1/1\n",
      "45000/45000 [==============================] - 8s - loss: 0.0148 - acc: 0.9999 - val_loss: 0.0115 - val_acc: 1.0000\n",
      "Q csjnl T cjlns \u001b[92m☑\u001b[0m cjlns\n",
      "Q dxag  T adgx  \u001b[92m☑\u001b[0m adgx \n",
      "Q lfe   T efl   \u001b[92m☑\u001b[0m efl  \n",
      "Q wobhj T bhjow \u001b[92m☑\u001b[0m bhjow\n",
      "Q huuny T hnuuy \u001b[92m☑\u001b[0m hnuuy\n",
      "Q ihwni T hiinw \u001b[92m☑\u001b[0m hiinw\n",
      "Q bqaq  T abqq  \u001b[92m☑\u001b[0m abqq \n",
      "Q dzqkd T ddkqz \u001b[92m☑\u001b[0m ddkqz\n",
      "Q erhm  T ehmr  \u001b[92m☑\u001b[0m ehmr \n",
      "Q avbqw T abqvw \u001b[92m☑\u001b[0m abqvw\n",
      "\n",
      "--------------------------------------------------\n",
      "Iteration 6\n",
      "Train on 45000 samples, validate on 5000 samples\n",
      "Epoch 1/1\n",
      "45000/45000 [==============================] - 8s - loss: 0.0091 - acc: 1.0000 - val_loss: 0.0073 - val_acc: 1.0000\n",
      "Q vdogc T cdgov \u001b[92m☑\u001b[0m cdgov\n",
      "Q cql   T clq   \u001b[92m☑\u001b[0m clq  \n",
      "Q xjgw  T gjwx  \u001b[92m☑\u001b[0m gjwx \n",
      "Q wwwvh T hvwww \u001b[92m☑\u001b[0m hvwww\n",
      "Q rnvj  T jnrv  \u001b[92m☑\u001b[0m jnrv \n",
      "Q xmuz  T muxz  \u001b[92m☑\u001b[0m muxz \n",
      "Q dvn   T dnv   \u001b[92m☑\u001b[0m dnv  \n",
      "Q rhkda T adhkr \u001b[92m☑\u001b[0m adhkr\n",
      "Q cxqjs T cjqsx \u001b[92m☑\u001b[0m cjqsx\n",
      "Q mtrfa T afmrt \u001b[92m☑\u001b[0m afmrt\n",
      "\n",
      "--------------------------------------------------\n",
      "Iteration 7\n",
      "Train on 45000 samples, validate on 5000 samples\n",
      "Epoch 1/1\n",
      "45000/45000 [==============================] - 8s - loss: 0.0060 - acc: 1.0000 - val_loss: 0.0050 - val_acc: 1.0000\n",
      "Q fzymd T dfmyz \u001b[92m☑\u001b[0m dfmyz\n",
      "Q ifjq  T fijq  \u001b[92m☑\u001b[0m fijq \n",
      "Q duox  T doux  \u001b[92m☑\u001b[0m doux \n",
      "Q fygg  T fggy  \u001b[92m☑\u001b[0m fggy \n",
      "Q mobfe T befmo \u001b[92m☑\u001b[0m befmo\n",
      "Q jlgx  T gjlx  \u001b[92m☑\u001b[0m gjlx \n",
      "Q uogzb T bgouz \u001b[92m☑\u001b[0m bgouz\n",
      "Q yhv   T hvy   \u001b[92m☑\u001b[0m hvy  \n",
      "Q iiy   T iiy   \u001b[92m☑\u001b[0m iiy  \n",
      "Q alefc T acefl \u001b[92m☑\u001b[0m acefl\n",
      "\n",
      "--------------------------------------------------\n",
      "Iteration 8\n",
      "Train on 45000 samples, validate on 5000 samples\n",
      "Epoch 1/1\n",
      "45000/45000 [==============================] - 8s - loss: 0.0041 - acc: 1.0000 - val_loss: 0.0037 - val_acc: 1.0000\n",
      "Q esl   T els   \u001b[92m☑\u001b[0m els  \n",
      "Q ehxy  T ehxy  \u001b[92m☑\u001b[0m ehxy \n",
      "Q tlpd  T dlpt  \u001b[92m☑\u001b[0m dlpt \n",
      "Q jpbo  T bjop  \u001b[92m☑\u001b[0m bjop \n",
      "Q plst  T lpst  \u001b[92m☑\u001b[0m lpst \n",
      "Q jzd   T djz   \u001b[92m☑\u001b[0m djz  \n",
      "Q vzol  T lovz  \u001b[92m☑\u001b[0m lovz \n",
      "Q inx   T inx   \u001b[92m☑\u001b[0m inx  \n",
      "Q bqyx  T bqxy  \u001b[92m☑\u001b[0m bqxy \n",
      "Q wyvs  T svwy  \u001b[92m☑\u001b[0m svwy \n",
      "\n",
      "--------------------------------------------------\n",
      "Iteration 9\n",
      "Train on 45000 samples, validate on 5000 samples\n",
      "Epoch 1/1\n",
      "45000/45000 [==============================] - 8s - loss: 0.0030 - acc: 1.0000 - val_loss: 0.0027 - val_acc: 1.0000\n",
      "Q cqjqn T cjnqq \u001b[92m☑\u001b[0m cjnqq\n",
      "Q ifeah T aefhi \u001b[92m☑\u001b[0m aefhi\n",
      "Q bkov  T bkov  \u001b[92m☑\u001b[0m bkov \n",
      "Q vhfi  T fhiv  \u001b[92m☑\u001b[0m fhiv \n",
      "Q josrw T jorsw \u001b[92m☑\u001b[0m jorsw\n",
      "Q itg   T git   \u001b[92m☑\u001b[0m git  \n",
      "Q gkdt  T dgkt  \u001b[92m☑\u001b[0m dgkt \n",
      "Q tdp   T dpt   \u001b[92m☑\u001b[0m dpt  \n",
      "Q dnxmy T dmnxy \u001b[92m☑\u001b[0m dmnxy\n",
      "Q pjl   T jlp   \u001b[92m☑\u001b[0m jlp  \n",
      "\n",
      "--------------------------------------------------\n",
      "Iteration 10\n",
      "Train on 45000 samples, validate on 5000 samples\n",
      "Epoch 1/1\n",
      "45000/45000 [==============================] - 8s - loss: 0.0022 - acc: 1.0000 - val_loss: 0.0021 - val_acc: 1.0000\n",
      "Q odc   T cdo   \u001b[92m☑\u001b[0m cdo  \n",
      "Q gguwj T ggjuw \u001b[92m☑\u001b[0m ggjuw\n",
      "Q qud   T dqu   \u001b[92m☑\u001b[0m dqu  \n",
      "Q tkqve T ekqtv \u001b[92m☑\u001b[0m ekqtv\n",
      "Q drko  T dkor  \u001b[92m☑\u001b[0m dkor \n",
      "Q tfq   T fqt   \u001b[92m☑\u001b[0m fqt  \n",
      "Q nt    T nt    \u001b[92m☑\u001b[0m nt   \n",
      "Q nccpl T cclnp \u001b[92m☑\u001b[0m cclnp\n",
      "Q cfgon T cfgno \u001b[92m☑\u001b[0m cfgno\n",
      "Q rya   T ary   \u001b[92m☑\u001b[0m ary  \n"
     ]
    }
   ],
   "source": [
    "# Train the model each generation and show predictions against the validation\n",
    "# dataset.\n",
    "for iteration in range(1, ITERATIONS + 1):\n",
    "    print()\n",
    "    print('-' * 50)\n",
    "    print('Iteration', iteration)\n",
    "    model.fit(x_train, y_train,\n",
    "              batch_size=BATCH_SIZE,\n",
    "              epochs=EPOCHS,\n",
    "              validation_data=(x_val, y_val))\n",
    "    # Select 10 samples from the validation set at random so we can visualize\n",
    "    # errors.\n",
    "    for i in range(10):\n",
    "        ind = np.random.randint(0, len(x_val))\n",
    "        rowx, rowy = x_val[np.array([ind])], y_val[np.array([ind])]\n",
    "        preds = model.predict_classes(rowx, verbose=0)\n",
    "        q = ctable.decode(rowx[0])\n",
    "        correct = ctable.decode(rowy[0])\n",
    "        guess = ctable.decode(preds[0], calc_argmax=False)\n",
    "        print('Q', q, end=' ')\n",
    "        print('T', correct, end=' ')\n",
    "        if correct == guess:\n",
    "            print(colors.ok + '☑' + colors.close, end=' ')\n",
    "        else:\n",
    "            print(colors.fail + '☒' + colors.close, end=' ')\n",
    "        print(guess)"
   ]
  },
  {
   "cell_type": "code",
   "execution_count": 62,
   "metadata": {
    "collapsed": true
   },
   "outputs": [],
   "source": [
    "def predict(line):\n",
    "    if len(line) > DIGITS:\n",
    "        print( \"Length of the line {} is more then {}\", len(line), DIGITS )\n",
    "        return\n",
    "    # pad the input\n",
    "    query = line + ' ' * (DIGITS - len(line))\n",
    "    x = np.zeros((1, DIGITS, len(chars)), dtype=np.bool)\n",
    "    x[0] = ctable.encode(query, DIGITS)\n",
    "    preds = model.predict_classes(x, verbose=0)\n",
    "    guess = ctable.decode(preds[0], calc_argmax=False)\n",
    "    return guess"
   ]
  },
  {
   "cell_type": "markdown",
   "metadata": {},
   "source": [
    "# "
   ]
  },
  {
   "cell_type": "code",
   "execution_count": 64,
   "metadata": {},
   "outputs": [
    {
     "data": {
      "text/plain": [
       "'cdl  '"
      ]
     },
     "execution_count": 64,
     "metadata": {},
     "output_type": "execute_result"
    }
   ],
   "source": [
    "predict(\"dlc\")"
   ]
  }
 ],
 "metadata": {
  "kernelspec": {
   "display_name": "Python 3",
   "language": "python",
   "name": "python3"
  },
  "language_info": {
   "codemirror_mode": {
    "name": "ipython",
    "version": 3
   },
   "file_extension": ".py",
   "mimetype": "text/x-python",
   "name": "python",
   "nbconvert_exporter": "python",
   "pygments_lexer": "ipython3",
   "version": "3.6.3"
  }
 },
 "nbformat": 4,
 "nbformat_minor": 2
}
